{
 "cells": [
  {
   "cell_type": "code",
   "execution_count": 4,
   "metadata": {},
   "outputs": [],
   "source": [
    "import os \n",
    "import yaml\n",
    "import datetime\n",
    "\n",
    "import numpy as np\n",
    "import pandas as pd"
   ]
  },
  {
   "cell_type": "code",
   "execution_count": 7,
   "metadata": {},
   "outputs": [],
   "source": [
    "ENV_FILE='../env.yaml'\n",
    "with open(ENV_FILE) as f:\n",
    "    params = yaml.load(f, Loader=yaml.FullLoader)\n",
    "\n",
    "#Initialisation des chemins vers les fichiers\n",
    "ROOT_DIR = os.path.dirname(os.path.abspath(ENV_FILE))\n",
    "DATA_FILE= os.path.join(ROOT_DIR, params['directories']['processed'], params['files']['all_data'])\n",
    "\n",
    "#Lecture du fihcier de données\n",
    "epidemie_df = (pd.read_csv(DATA_FILE, parse_dates=['Last Update'])\n",
    "               .assign(day=lambda _df:_df['Last Update'].dt.date)\n",
    "               .drop_duplicates(subset=['Country/Region', 'Province/State', 'day'])\n",
    "               [lambda df: df['day'] <= datetime.date(2020,3,12)]\n",
    "              )"
   ]
  },
  {
   "cell_type": "code",
   "execution_count": 8,
   "metadata": {},
   "outputs": [
    {
     "data": {
      "text/html": [
       "<div>\n",
       "<style scoped>\n",
       "    .dataframe tbody tr th:only-of-type {\n",
       "        vertical-align: middle;\n",
       "    }\n",
       "\n",
       "    .dataframe tbody tr th {\n",
       "        vertical-align: top;\n",
       "    }\n",
       "\n",
       "    .dataframe thead th {\n",
       "        text-align: right;\n",
       "    }\n",
       "</style>\n",
       "<table border=\"1\" class=\"dataframe\">\n",
       "  <thead>\n",
       "    <tr style=\"text-align: right;\">\n",
       "      <th></th>\n",
       "      <th>Province/State</th>\n",
       "      <th>Country/Region</th>\n",
       "      <th>Last Update</th>\n",
       "      <th>Confirmed</th>\n",
       "      <th>Deaths</th>\n",
       "      <th>Recovered</th>\n",
       "      <th>Latitude</th>\n",
       "      <th>Longitude</th>\n",
       "      <th>source</th>\n",
       "      <th>day</th>\n",
       "    </tr>\n",
       "  </thead>\n",
       "  <tbody>\n",
       "    <tr>\n",
       "      <th>0</th>\n",
       "      <td>Anhui</td>\n",
       "      <td>Mainland China</td>\n",
       "      <td>2020-01-22 17:00:00</td>\n",
       "      <td>1.0</td>\n",
       "      <td>NaN</td>\n",
       "      <td>NaN</td>\n",
       "      <td>31.8257</td>\n",
       "      <td>117.2264</td>\n",
       "      <td>01-22-2020.csv</td>\n",
       "      <td>2020-01-22</td>\n",
       "    </tr>\n",
       "    <tr>\n",
       "      <th>1</th>\n",
       "      <td>Beijing</td>\n",
       "      <td>Mainland China</td>\n",
       "      <td>2020-01-22 17:00:00</td>\n",
       "      <td>14.0</td>\n",
       "      <td>NaN</td>\n",
       "      <td>NaN</td>\n",
       "      <td>40.1824</td>\n",
       "      <td>116.4142</td>\n",
       "      <td>01-22-2020.csv</td>\n",
       "      <td>2020-01-22</td>\n",
       "    </tr>\n",
       "    <tr>\n",
       "      <th>2</th>\n",
       "      <td>Chongqing</td>\n",
       "      <td>Mainland China</td>\n",
       "      <td>2020-01-22 17:00:00</td>\n",
       "      <td>6.0</td>\n",
       "      <td>NaN</td>\n",
       "      <td>NaN</td>\n",
       "      <td>30.0572</td>\n",
       "      <td>107.8740</td>\n",
       "      <td>01-22-2020.csv</td>\n",
       "      <td>2020-01-22</td>\n",
       "    </tr>\n",
       "    <tr>\n",
       "      <th>3</th>\n",
       "      <td>Fujian</td>\n",
       "      <td>Mainland China</td>\n",
       "      <td>2020-01-22 17:00:00</td>\n",
       "      <td>1.0</td>\n",
       "      <td>NaN</td>\n",
       "      <td>NaN</td>\n",
       "      <td>26.0789</td>\n",
       "      <td>117.9874</td>\n",
       "      <td>01-22-2020.csv</td>\n",
       "      <td>2020-01-22</td>\n",
       "    </tr>\n",
       "    <tr>\n",
       "      <th>4</th>\n",
       "      <td>Gansu</td>\n",
       "      <td>Mainland China</td>\n",
       "      <td>2020-01-22 17:00:00</td>\n",
       "      <td>NaN</td>\n",
       "      <td>NaN</td>\n",
       "      <td>NaN</td>\n",
       "      <td>36.0611</td>\n",
       "      <td>103.8343</td>\n",
       "      <td>01-22-2020.csv</td>\n",
       "      <td>2020-01-22</td>\n",
       "    </tr>\n",
       "  </tbody>\n",
       "</table>\n",
       "</div>"
      ],
      "text/plain": [
       "  Province/State  Country/Region         Last Update  Confirmed  Deaths  \\\n",
       "0          Anhui  Mainland China 2020-01-22 17:00:00        1.0     NaN   \n",
       "1        Beijing  Mainland China 2020-01-22 17:00:00       14.0     NaN   \n",
       "2      Chongqing  Mainland China 2020-01-22 17:00:00        6.0     NaN   \n",
       "3         Fujian  Mainland China 2020-01-22 17:00:00        1.0     NaN   \n",
       "4          Gansu  Mainland China 2020-01-22 17:00:00        NaN     NaN   \n",
       "\n",
       "   Recovered  Latitude  Longitude          source         day  \n",
       "0        NaN   31.8257   117.2264  01-22-2020.csv  2020-01-22  \n",
       "1        NaN   40.1824   116.4142  01-22-2020.csv  2020-01-22  \n",
       "2        NaN   30.0572   107.8740  01-22-2020.csv  2020-01-22  \n",
       "3        NaN   26.0789   117.9874  01-22-2020.csv  2020-01-22  \n",
       "4        NaN   36.0611   103.8343  01-22-2020.csv  2020-01-22  "
      ]
     },
     "execution_count": 8,
     "metadata": {},
     "output_type": "execute_result"
    }
   ],
   "source": [
    "epidemie_df.head()"
   ]
  },
  {
   "cell_type": "code",
   "execution_count": 11,
   "metadata": {},
   "outputs": [
    {
     "data": {
      "text/html": [
       "<div>\n",
       "<style scoped>\n",
       "    .dataframe tbody tr th:only-of-type {\n",
       "        vertical-align: middle;\n",
       "    }\n",
       "\n",
       "    .dataframe tbody tr th {\n",
       "        vertical-align: top;\n",
       "    }\n",
       "\n",
       "    .dataframe thead th {\n",
       "        text-align: right;\n",
       "    }\n",
       "</style>\n",
       "<table border=\"1\" class=\"dataframe\">\n",
       "  <thead>\n",
       "    <tr style=\"text-align: right;\">\n",
       "      <th></th>\n",
       "      <th>Country/Region</th>\n",
       "      <th>day</th>\n",
       "      <th>Confirmed</th>\n",
       "      <th>Deaths</th>\n",
       "      <th>Recovered</th>\n",
       "    </tr>\n",
       "  </thead>\n",
       "  <tbody>\n",
       "    <tr>\n",
       "      <th>23</th>\n",
       "      <td>France</td>\n",
       "      <td>2020-03-07</td>\n",
       "      <td>949.0</td>\n",
       "      <td>11.0</td>\n",
       "      <td>12.0</td>\n",
       "    </tr>\n",
       "    <tr>\n",
       "      <th>24</th>\n",
       "      <td>France</td>\n",
       "      <td>2020-03-08</td>\n",
       "      <td>1126.0</td>\n",
       "      <td>19.0</td>\n",
       "      <td>12.0</td>\n",
       "    </tr>\n",
       "    <tr>\n",
       "      <th>25</th>\n",
       "      <td>France</td>\n",
       "      <td>2020-03-09</td>\n",
       "      <td>1209.0</td>\n",
       "      <td>19.0</td>\n",
       "      <td>12.0</td>\n",
       "    </tr>\n",
       "    <tr>\n",
       "      <th>26</th>\n",
       "      <td>France</td>\n",
       "      <td>2020-03-10</td>\n",
       "      <td>1784.0</td>\n",
       "      <td>33.0</td>\n",
       "      <td>12.0</td>\n",
       "    </tr>\n",
       "    <tr>\n",
       "      <th>27</th>\n",
       "      <td>France</td>\n",
       "      <td>2020-03-11</td>\n",
       "      <td>2284.0</td>\n",
       "      <td>48.0</td>\n",
       "      <td>12.0</td>\n",
       "    </tr>\n",
       "  </tbody>\n",
       "</table>\n",
       "</div>"
      ],
      "text/plain": [
       "   Country/Region         day  Confirmed  Deaths  Recovered\n",
       "23         France  2020-03-07      949.0    11.0       12.0\n",
       "24         France  2020-03-08     1126.0    19.0       12.0\n",
       "25         France  2020-03-09     1209.0    19.0       12.0\n",
       "26         France  2020-03-10     1784.0    33.0       12.0\n",
       "27         France  2020-03-11     2284.0    48.0       12.0"
      ]
     },
     "execution_count": 11,
     "metadata": {},
     "output_type": "execute_result"
    }
   ],
   "source": [
    "france_df = (epidemie_df[epidemie_df['Country/Region'] == 'France']\n",
    "              .groupby(['Country/Region', 'day'])\n",
    "              .agg({'Confirmed': 'sum', 'Deaths': 'sum', 'Recovered': 'sum'})\n",
    "              .reset_index()\n",
    "             )\n",
    "france_df.tail()"
   ]
  },
  {
   "cell_type": "code",
   "execution_count": 15,
   "metadata": {},
   "outputs": [
    {
     "data": {
      "text/plain": [
       "0       NaN\n",
       "1       1.0\n",
       "2       0.0\n",
       "3       0.0\n",
       "4       1.0\n",
       "5       1.0\n",
       "6       0.0\n",
       "7       0.0\n",
       "8       1.0\n",
       "9       5.0\n",
       "10      0.0\n",
       "11      1.0\n",
       "12      2.0\n",
       "13      4.0\n",
       "14     20.0\n",
       "15     19.0\n",
       "16     43.0\n",
       "17     30.0\n",
       "18     61.0\n",
       "19     13.0\n",
       "20     81.0\n",
       "21     92.0\n",
       "22    276.0\n",
       "23    296.0\n",
       "24    177.0\n",
       "25     83.0\n",
       "26    575.0\n",
       "27    500.0\n",
       "Name: Confirmed, dtype: float64"
      ]
     },
     "execution_count": 15,
     "metadata": {},
     "output_type": "execute_result"
    }
   ],
   "source": [
    "france_df['Confirmed'].diff()\n",
    "# Fait la différence entre la ligne n et la ligne n-1"
   ]
  },
  {
   "cell_type": "code",
   "execution_count": 16,
   "metadata": {},
   "outputs": [
    {
     "data": {
      "text/html": [
       "<div>\n",
       "<style scoped>\n",
       "    .dataframe tbody tr th:only-of-type {\n",
       "        vertical-align: middle;\n",
       "    }\n",
       "\n",
       "    .dataframe tbody tr th {\n",
       "        vertical-align: top;\n",
       "    }\n",
       "\n",
       "    .dataframe thead th {\n",
       "        text-align: right;\n",
       "    }\n",
       "</style>\n",
       "<table border=\"1\" class=\"dataframe\">\n",
       "  <thead>\n",
       "    <tr style=\"text-align: right;\">\n",
       "      <th></th>\n",
       "      <th>Country/Region</th>\n",
       "      <th>day</th>\n",
       "      <th>Confirmed</th>\n",
       "      <th>Deaths</th>\n",
       "      <th>Recovered</th>\n",
       "    </tr>\n",
       "  </thead>\n",
       "  <tbody>\n",
       "    <tr>\n",
       "      <th>38</th>\n",
       "      <td>South Korea</td>\n",
       "      <td>2020-03-05</td>\n",
       "      <td>6088.0</td>\n",
       "      <td>35.0</td>\n",
       "      <td>41.0</td>\n",
       "    </tr>\n",
       "    <tr>\n",
       "      <th>39</th>\n",
       "      <td>South Korea</td>\n",
       "      <td>2020-03-06</td>\n",
       "      <td>6593.0</td>\n",
       "      <td>42.0</td>\n",
       "      <td>135.0</td>\n",
       "    </tr>\n",
       "    <tr>\n",
       "      <th>40</th>\n",
       "      <td>South Korea</td>\n",
       "      <td>2020-03-07</td>\n",
       "      <td>7041.0</td>\n",
       "      <td>44.0</td>\n",
       "      <td>135.0</td>\n",
       "    </tr>\n",
       "    <tr>\n",
       "      <th>41</th>\n",
       "      <td>South Korea</td>\n",
       "      <td>2020-03-08</td>\n",
       "      <td>7314.0</td>\n",
       "      <td>50.0</td>\n",
       "      <td>118.0</td>\n",
       "    </tr>\n",
       "    <tr>\n",
       "      <th>42</th>\n",
       "      <td>South Korea</td>\n",
       "      <td>2020-03-09</td>\n",
       "      <td>7478.0</td>\n",
       "      <td>53.0</td>\n",
       "      <td>118.0</td>\n",
       "    </tr>\n",
       "  </tbody>\n",
       "</table>\n",
       "</div>"
      ],
      "text/plain": [
       "   Country/Region         day  Confirmed  Deaths  Recovered\n",
       "38    South Korea  2020-03-05     6088.0    35.0       41.0\n",
       "39    South Korea  2020-03-06     6593.0    42.0      135.0\n",
       "40    South Korea  2020-03-07     7041.0    44.0      135.0\n",
       "41    South Korea  2020-03-08     7314.0    50.0      118.0\n",
       "42    South Korea  2020-03-09     7478.0    53.0      118.0"
      ]
     },
     "execution_count": 16,
     "metadata": {},
     "output_type": "execute_result"
    }
   ],
   "source": [
    "korea_df = (epidemie_df[epidemie_df['Country/Region'] == 'South Korea']\n",
    "            .groupby(['Country/Region', 'day'])\n",
    "            .agg({'Confirmed': 'sum', 'Deaths': 'sum', 'Recovered': 'sum'})\n",
    "            .reset_index()\n",
    "             )\n",
    "korea_df.tail()"
   ]
  },
  {
   "cell_type": "code",
   "execution_count": 18,
   "metadata": {},
   "outputs": [
    {
     "data": {
      "text/plain": [
       "<function matplotlib.pyplot.show(*args, **kw)>"
      ]
     },
     "execution_count": 18,
     "metadata": {},
     "output_type": "execute_result"
    },
    {
     "data": {
      "image/png": "[encoded data removed]",
      "text/plain": [
       "<Figure size 864x360 with 1 Axes>"
      ]
     },
     "metadata": {
      "needs_background": "light"
     },
     "output_type": "display_data"
    }
   ],
   "source": [
    "import matplotlib.pyplot as plt\n",
    "%matplotlib inline\n",
    "\n",
    "fig = plt.figure(figsize=(12, 5))\n",
    "plt.plot(korea_df['day'], korea_df['Confirmed'])\n",
    "plt.grid(True)\n",
    "plt.show"
   ]
  },
  {
   "cell_type": "code",
   "execution_count": 20,
   "metadata": {},
   "outputs": [
    {
     "data": {
      "text/plain": [
       "<function matplotlib.pyplot.show(*args, **kw)>"
      ]
     },
     "execution_count": 20,
     "metadata": {},
     "output_type": "execute_result"
    },
    {
     "data": {
      "image/png": "[encoded data removed]",
      "text/plain": [
       "<Figure size 864x360 with 1 Axes>"
      ]
     },
     "metadata": {
      "needs_background": "light"
     },
     "output_type": "display_data"
    }
   ],
   "source": [
    "korea_df['infected'] = korea_df['Confirmed'].diff()\n",
    "\n",
    "fig = plt.figure(figsize=(12, 5))\n",
    "plt.plot(korea_df['day'], korea_df['Confirmed'])\n",
    "plt.plot(korea_df['day'], korea_df['infected'])\n",
    "plt.grid(True)\n",
    "plt.show"
   ]
  },
  {
   "cell_type": "code",
   "execution_count": 21,
   "metadata": {},
   "outputs": [],
   "source": [
    "def get_country(self, country):\n",
    "    return (epidemie_df[epidemie_df['Country/Region'] == country]\n",
    "           .groupby(['Country/Region', 'day'])\n",
    "           .agg({'Confirmed': 'sum', 'Deaths': 'sum', 'Recovered': 'sum'})\n",
    "           .reset_index()\n",
    "           )\n",
    "\n",
    "# Monkey patch pd.DataFrame\n",
    "pd.DataFrame.get_country = get_country"
   ]
  },
  {
   "cell_type": "code",
   "execution_count": 24,
   "metadata": {},
   "outputs": [
    {
     "data": {
      "text/html": [
       "<div>\n",
       "<style scoped>\n",
       "    .dataframe tbody tr th:only-of-type {\n",
       "        vertical-align: middle;\n",
       "    }\n",
       "\n",
       "    .dataframe tbody tr th {\n",
       "        vertical-align: top;\n",
       "    }\n",
       "\n",
       "    .dataframe thead th {\n",
       "        text-align: right;\n",
       "    }\n",
       "</style>\n",
       "<table border=\"1\" class=\"dataframe\">\n",
       "  <thead>\n",
       "    <tr style=\"text-align: right;\">\n",
       "      <th></th>\n",
       "      <th>Country/Region</th>\n",
       "      <th>day</th>\n",
       "      <th>Confirmed</th>\n",
       "      <th>Deaths</th>\n",
       "      <th>Recovered</th>\n",
       "    </tr>\n",
       "  </thead>\n",
       "  <tbody>\n",
       "    <tr>\n",
       "      <th>0</th>\n",
       "      <td>South Korea</td>\n",
       "      <td>2020-01-22</td>\n",
       "      <td>1.0</td>\n",
       "      <td>0.0</td>\n",
       "      <td>0.0</td>\n",
       "    </tr>\n",
       "    <tr>\n",
       "      <th>1</th>\n",
       "      <td>South Korea</td>\n",
       "      <td>2020-01-23</td>\n",
       "      <td>1.0</td>\n",
       "      <td>0.0</td>\n",
       "      <td>0.0</td>\n",
       "    </tr>\n",
       "    <tr>\n",
       "      <th>2</th>\n",
       "      <td>South Korea</td>\n",
       "      <td>2020-01-24</td>\n",
       "      <td>2.0</td>\n",
       "      <td>0.0</td>\n",
       "      <td>0.0</td>\n",
       "    </tr>\n",
       "    <tr>\n",
       "      <th>3</th>\n",
       "      <td>South Korea</td>\n",
       "      <td>2020-01-25</td>\n",
       "      <td>2.0</td>\n",
       "      <td>0.0</td>\n",
       "      <td>0.0</td>\n",
       "    </tr>\n",
       "    <tr>\n",
       "      <th>4</th>\n",
       "      <td>South Korea</td>\n",
       "      <td>2020-01-26</td>\n",
       "      <td>3.0</td>\n",
       "      <td>0.0</td>\n",
       "      <td>0.0</td>\n",
       "    </tr>\n",
       "  </tbody>\n",
       "</table>\n",
       "</div>"
      ],
      "text/plain": [
       "  Country/Region         day  Confirmed  Deaths  Recovered\n",
       "0    South Korea  2020-01-22        1.0     0.0        0.0\n",
       "1    South Korea  2020-01-23        1.0     0.0        0.0\n",
       "2    South Korea  2020-01-24        2.0     0.0        0.0\n",
       "3    South Korea  2020-01-25        2.0     0.0        0.0\n",
       "4    South Korea  2020-01-26        3.0     0.0        0.0"
      ]
     },
     "execution_count": 24,
     "metadata": {},
     "output_type": "execute_result"
    }
   ],
   "source": [
    "get_country(epidemie_df, 'South Korea').head()"
   ]
  },
  {
   "cell_type": "code",
   "execution_count": 25,
   "metadata": {},
   "outputs": [
    {
     "data": {
      "text/html": [
       "<div>\n",
       "<style scoped>\n",
       "    .dataframe tbody tr th:only-of-type {\n",
       "        vertical-align: middle;\n",
       "    }\n",
       "\n",
       "    .dataframe tbody tr th {\n",
       "        vertical-align: top;\n",
       "    }\n",
       "\n",
       "    .dataframe thead th {\n",
       "        text-align: right;\n",
       "    }\n",
       "</style>\n",
       "<table border=\"1\" class=\"dataframe\">\n",
       "  <thead>\n",
       "    <tr style=\"text-align: right;\">\n",
       "      <th></th>\n",
       "      <th>Country/Region</th>\n",
       "      <th>day</th>\n",
       "      <th>Confirmed</th>\n",
       "      <th>Deaths</th>\n",
       "      <th>Recovered</th>\n",
       "    </tr>\n",
       "  </thead>\n",
       "  <tbody>\n",
       "    <tr>\n",
       "      <th>0</th>\n",
       "      <td>Italy</td>\n",
       "      <td>2020-01-31</td>\n",
       "      <td>2.0</td>\n",
       "      <td>0.0</td>\n",
       "      <td>0.0</td>\n",
       "    </tr>\n",
       "    <tr>\n",
       "      <th>1</th>\n",
       "      <td>Italy</td>\n",
       "      <td>2020-02-07</td>\n",
       "      <td>3.0</td>\n",
       "      <td>0.0</td>\n",
       "      <td>0.0</td>\n",
       "    </tr>\n",
       "    <tr>\n",
       "      <th>2</th>\n",
       "      <td>Italy</td>\n",
       "      <td>2020-02-21</td>\n",
       "      <td>20.0</td>\n",
       "      <td>1.0</td>\n",
       "      <td>0.0</td>\n",
       "    </tr>\n",
       "    <tr>\n",
       "      <th>3</th>\n",
       "      <td>Italy</td>\n",
       "      <td>2020-02-22</td>\n",
       "      <td>62.0</td>\n",
       "      <td>2.0</td>\n",
       "      <td>1.0</td>\n",
       "    </tr>\n",
       "    <tr>\n",
       "      <th>4</th>\n",
       "      <td>Italy</td>\n",
       "      <td>2020-02-23</td>\n",
       "      <td>155.0</td>\n",
       "      <td>3.0</td>\n",
       "      <td>2.0</td>\n",
       "    </tr>\n",
       "  </tbody>\n",
       "</table>\n",
       "</div>"
      ],
      "text/plain": [
       "  Country/Region         day  Confirmed  Deaths  Recovered\n",
       "0          Italy  2020-01-31        2.0     0.0        0.0\n",
       "1          Italy  2020-02-07        3.0     0.0        0.0\n",
       "2          Italy  2020-02-21       20.0     1.0        0.0\n",
       "3          Italy  2020-02-22       62.0     2.0        1.0\n",
       "4          Italy  2020-02-23      155.0     3.0        2.0"
      ]
     },
     "execution_count": 25,
     "metadata": {},
     "output_type": "execute_result"
    }
   ],
   "source": [
    "italy_df = epidemie_df.get_country('Italy')\n",
    "italy_df.head()"
   ]
  },
  {
   "cell_type": "code",
   "execution_count": 30,
   "metadata": {},
   "outputs": [
    {
     "data": {
      "text/plain": [
       "<function matplotlib.pyplot.show(*args, **kw)>"
      ]
     },
     "execution_count": 30,
     "metadata": {},
     "output_type": "execute_result"
    },
    {
     "data": {
      "image/png": "[encoded data removed]",
      "text/plain": [
       "<Figure size 864x360 with 1 Axes>"
      ]
     },
     "metadata": {
      "needs_background": "light"
     },
     "output_type": "display_data"
    }
   ],
   "source": [
    "italy_df['infected'] = italy_df['Confirmed'].diff()\n",
    "\n",
    "fig = plt.figure(figsize=(12, 5))\n",
    "plt.plot(korea_df['day'], korea_df['Confirmed'], label='S. Korea confirmed')\n",
    "plt.plot(korea_df['day'], korea_df['infected'], label='S. Korea infected')\n",
    "plt.plot(italy_df['day'], italy_df['Confirmed'], label='Italy confirmed')\n",
    "plt.plot(italy_df['day'], italy_df['infected'], label='Italy infected')\n",
    "plt.grid(True)\n",
    "plt.legend()\n",
    "plt.show"
   ]
  },
  {
   "cell_type": "code",
   "execution_count": 32,
   "metadata": {},
   "outputs": [],
   "source": [
    "beta,gamma = [0.01,0.1]\n",
    "\n",
    "def SIR(t,y):\n",
    "    S = y[0]\n",
    "    I = y[1]\n",
    "    R = y[2]\n",
    "    return([-beta*S*I, beta*S*I-gamma*I, gamma*I])"
   ]
  },
  {
   "cell_type": "code",
   "execution_count": 33,
   "metadata": {},
   "outputs": [
    {
     "data": {
      "text/html": [
       "<div>\n",
       "<style scoped>\n",
       "    .dataframe tbody tr th:only-of-type {\n",
       "        vertical-align: middle;\n",
       "    }\n",
       "\n",
       "    .dataframe tbody tr th {\n",
       "        vertical-align: top;\n",
       "    }\n",
       "\n",
       "    .dataframe thead th {\n",
       "        text-align: right;\n",
       "    }\n",
       "</style>\n",
       "<table border=\"1\" class=\"dataframe\">\n",
       "  <thead>\n",
       "    <tr style=\"text-align: right;\">\n",
       "      <th></th>\n",
       "      <th>Country/Region</th>\n",
       "      <th>day</th>\n",
       "      <th>Confirmed</th>\n",
       "      <th>Deaths</th>\n",
       "      <th>Recovered</th>\n",
       "      <th>infected</th>\n",
       "    </tr>\n",
       "  </thead>\n",
       "  <tbody>\n",
       "    <tr>\n",
       "      <th>0</th>\n",
       "      <td>South Korea</td>\n",
       "      <td>2020-01-22</td>\n",
       "      <td>1.0</td>\n",
       "      <td>0.0</td>\n",
       "      <td>0.0</td>\n",
       "      <td>NaN</td>\n",
       "    </tr>\n",
       "    <tr>\n",
       "      <th>1</th>\n",
       "      <td>South Korea</td>\n",
       "      <td>2020-01-23</td>\n",
       "      <td>1.0</td>\n",
       "      <td>0.0</td>\n",
       "      <td>0.0</td>\n",
       "      <td>0.0</td>\n",
       "    </tr>\n",
       "    <tr>\n",
       "      <th>2</th>\n",
       "      <td>South Korea</td>\n",
       "      <td>2020-01-24</td>\n",
       "      <td>2.0</td>\n",
       "      <td>0.0</td>\n",
       "      <td>0.0</td>\n",
       "      <td>1.0</td>\n",
       "    </tr>\n",
       "    <tr>\n",
       "      <th>3</th>\n",
       "      <td>South Korea</td>\n",
       "      <td>2020-01-25</td>\n",
       "      <td>2.0</td>\n",
       "      <td>0.0</td>\n",
       "      <td>0.0</td>\n",
       "      <td>0.0</td>\n",
       "    </tr>\n",
       "    <tr>\n",
       "      <th>4</th>\n",
       "      <td>South Korea</td>\n",
       "      <td>2020-01-26</td>\n",
       "      <td>3.0</td>\n",
       "      <td>0.0</td>\n",
       "      <td>0.0</td>\n",
       "      <td>1.0</td>\n",
       "    </tr>\n",
       "  </tbody>\n",
       "</table>\n",
       "</div>"
      ],
      "text/plain": [
       "  Country/Region         day  Confirmed  Deaths  Recovered  infected\n",
       "0    South Korea  2020-01-22        1.0     0.0        0.0       NaN\n",
       "1    South Korea  2020-01-23        1.0     0.0        0.0       0.0\n",
       "2    South Korea  2020-01-24        2.0     0.0        0.0       1.0\n",
       "3    South Korea  2020-01-25        2.0     0.0        0.0       0.0\n",
       "4    South Korea  2020-01-26        3.0     0.0        0.0       1.0"
      ]
     },
     "execution_count": 33,
     "metadata": {},
     "output_type": "execute_result"
    }
   ],
   "source": [
    "korea_df.head()"
   ]
  },
  {
   "cell_type": "code",
   "execution_count": null,
   "metadata": {},
   "outputs": [],
   "source": [
    "from scipy.integrate import solve_ivp"
   ]
  },
  {
   "cell_type": "code",
   "execution_count": 41,
   "metadata": {},
   "outputs": [],
   "source": [
    "beta,gamma = [0.01,0.1]\n",
    "solution_korea = solve_ivp(SIR, [0, 40], [51_470_000, 1, 0], t_eval=np.arange(0, 40, 1))"
   ]
  },
  {
   "cell_type": "code",
   "execution_count": 43,
   "metadata": {},
   "outputs": [
    {
     "data": {
      "text/plain": [
       "  message: 'The solver successfully reached the end of the integration interval.'\n",
       "     nfev: 10617824\n",
       "     njev: 0\n",
       "      nlu: 0\n",
       "      sol: None\n",
       "   status: 0\n",
       "  success: True\n",
       "        t: array([ 0,  1,  2,  3,  4,  5,  6,  7,  8,  9, 10, 11, 12, 13, 14, 15, 16,\n",
       "       17, 18, 19, 20, 21, 22, 23, 24, 25, 26, 27, 28, 29, 30, 31, 32, 33,\n",
       "       34, 35, 36, 37, 38, 39])\n",
       " t_events: None\n",
       "        y: array([[ 5.14700000e+07,  2.04872617e-07, -5.79192642e-07,\n",
       "        -1.02864803e-07,  3.39434814e-07,  1.95092383e-07,\n",
       "         1.56908982e-06, -5.54756490e-07,  8.55639764e-07,\n",
       "        -3.84005541e-07,  1.14854677e-06,  1.04737837e-06,\n",
       "         1.41446345e-07, -3.89979213e-08, -1.31579840e-06,\n",
       "        -1.17991062e-06, -5.32379870e-07,  6.79204480e-07,\n",
       "        -7.21960552e-07, -4.83684927e-07, -5.40636688e-07,\n",
       "         5.00739636e-09, -2.42491836e-07, -4.15623310e-07,\n",
       "         5.38168115e-07, -1.20506229e-08,  4.33030631e-07,\n",
       "        -5.17489767e-07,  6.52063146e-07, -1.73762585e-07,\n",
       "         6.15113307e-07,  8.21540127e-07, -1.00073846e-07,\n",
       "        -4.04728266e-07,  8.07778947e-07, -4.37622079e-08,\n",
       "         1.27296141e-06,  9.18136998e-08,  3.27165295e-07,\n",
       "         3.44848325e-07],\n",
       "       [ 1.00000000e+00,  4.65721435e+07,  4.21402181e+07,\n",
       "         3.81300461e+07,  3.45014925e+07,  3.12182414e+07,\n",
       "         2.82474329e+07,  2.55593343e+07,  2.31270420e+07,\n",
       "         2.09262130e+07,  1.89348205e+07,  1.71329341e+07,\n",
       "         1.55025199e+07,  1.40272601e+07,  1.26923898e+07,\n",
       "         1.14845492e+07,  1.03916498e+07,  9.40275361e+06,\n",
       "         8.50796329e+06,  7.69832354e+06,  6.96573120e+06,\n",
       "         6.30285423e+06,  5.70305835e+06,  5.16034059e+06,\n",
       "         4.66926926e+06,  4.22492954e+06,  3.82287433e+06,\n",
       "         3.45907974e+06,  3.12990478e+06,  2.83205496e+06,\n",
       "         2.56254930e+06,  2.31869049e+06,  2.09803792e+06,\n",
       "         1.89838321e+06,  1.71772816e+06,  1.55426472e+06,\n",
       "         1.40635687e+06,  1.27252432e+06,  1.15142762e+06,\n",
       "         1.04185480e+06],\n",
       "       [ 0.00000000e+00,  4.89785751e+06,  9.32978293e+06,\n",
       "         1.33399549e+07,  1.69685085e+07,  2.02517596e+07,\n",
       "         2.32225681e+07,  2.59106667e+07,  2.83429590e+07,\n",
       "         3.05437880e+07,  3.25351805e+07,  3.43370669e+07,\n",
       "         3.59674811e+07,  3.74427409e+07,  3.87776112e+07,\n",
       "         3.99854518e+07,  4.10783512e+07,  4.20672474e+07,\n",
       "         4.29620377e+07,  4.37716775e+07,  4.45042698e+07,\n",
       "         4.51671468e+07,  4.57669427e+07,  4.63096604e+07,\n",
       "         4.68007317e+07,  4.72450715e+07,  4.76471267e+07,\n",
       "         4.80109213e+07,  4.83400962e+07,  4.86379460e+07,\n",
       "         4.89074517e+07,  4.91513105e+07,  4.93719631e+07,\n",
       "         4.95716178e+07,  4.97522728e+07,  4.99157363e+07,\n",
       "         5.00636441e+07,  5.01974767e+07,  5.03185734e+07,\n",
       "         5.04281462e+07]])\n",
       " y_events: None"
      ]
     },
     "execution_count": 43,
     "metadata": {},
     "output_type": "execute_result"
    }
   ],
   "source": [
    "solution_korea"
   ]
  },
  {
   "cell_type": "code",
   "execution_count": 44,
   "metadata": {},
   "outputs": [],
   "source": [
    "def plot_epidemie(solution, infected):\n",
    "    fig = plt.figure(figsize=(12, 5))\n",
    "    plt.plot(solution.t, solution.y[0])\n",
    "    plt.plot(solution.t, solution.y[1])\n",
    "    plt.plot(solution.t, solution.y[2])\n",
    "    plt.plot(infected.reset_index(drop=True).index, infected, \"k*:\")\n",
    "    plt.grid(True)\n",
    "    plt.legend(['Susceptible', 'Infected', 'Recovered', 'Original data'])\n",
    "    plt.show"
   ]
  },
  {
   "cell_type": "code",
   "execution_count": 45,
   "metadata": {},
   "outputs": [
    {
     "data": {
      "image/png": "[encoded data removed]",
      "text/plain": [
       "<Figure size 864x360 with 1 Axes>"
      ]
     },
     "metadata": {
      "needs_background": "light"
     },
     "output_type": "display_data"
    }
   ],
   "source": [
    "plot_epidemie(solution_korea, korea_df.loc[2:]['infected'])"
   ]
  },
  {
   "cell_type": "code",
   "execution_count": 46,
   "metadata": {},
   "outputs": [
    {
     "data": {
      "text/plain": [
       "851.0"
      ]
     },
     "execution_count": 46,
     "metadata": {},
     "output_type": "execute_result"
    }
   ],
   "source": [
    "korea_df['infected'].max()"
   ]
  },
  {
   "cell_type": "code",
   "execution_count": 47,
   "metadata": {},
   "outputs": [
    {
     "data": {
      "text/plain": [
       "252.0"
      ]
     },
     "execution_count": 47,
     "metadata": {},
     "output_type": "execute_result"
    }
   ],
   "source": [
    "korea_df['infected'].diff().max()"
   ]
  },
  {
   "cell_type": "code",
   "execution_count": 50,
   "metadata": {},
   "outputs": [
    {
     "data": {
      "text/plain": [
       "0.17870945831971552"
      ]
     },
     "execution_count": 50,
     "metadata": {},
     "output_type": "execute_result"
    }
   ],
   "source": [
    "(korea_df['Recovered'].diff().loc[korea_df['infected'] !=0] / korea_df.loc[korea_df['infected'] !=0]['infected']).mean()"
   ]
  },
  {
   "cell_type": "code",
   "execution_count": 51,
   "metadata": {},
   "outputs": [],
   "source": [
    "beta, gamma = [0.00000001, 0.1]\n",
    "solution_korea = solve_ivp(SIR, [0, 40], [51_470_000, 1, 0], t_eval=np.arange(0, 41, 1))"
   ]
  },
  {
   "cell_type": "code",
   "execution_count": 53,
   "metadata": {},
   "outputs": [
    {
     "data": {
      "image/png": "[encoded data removed]",
      "text/plain": [
       "<Figure size 864x360 with 1 Axes>"
      ]
     },
     "metadata": {
      "needs_background": "light"
     },
     "output_type": "display_data"
    }
   ],
   "source": [
    "plot_epidemie(solution_korea, korea_df.iloc[2:]['infected'])"
   ]
  },
  {
   "cell_type": "code",
   "execution_count": 66,
   "metadata": {},
   "outputs": [],
   "source": [
    "def sumsq_error(parameters):\n",
    "    beta, gamma = parameters\n",
    "    \n",
    "    def SIR(t,y):\n",
    "        S = y[0]\n",
    "        I = y[1]\n",
    "        R = y[2]\n",
    "        return([-beta*S*I, beta*S*I-gamma*I, gamma*I])\n",
    "\n",
    "    solution = solve_ivp(SIR, [0, nb_steps-1], [total_population, 1, 0], t_eval=np.arange(0, nb_steps, 1))\n",
    "    \n",
    "    return(sum((solution.y[1]-infected_population)**2))"
   ]
  },
  {
   "cell_type": "code",
   "execution_count": 67,
   "metadata": {},
   "outputs": [],
   "source": [
    "total_population = 51_470_000\n",
    "infected_population = korea_df.loc[2:]['infected']\n",
    "nb_steps = len(infected_population)"
   ]
  },
  {
   "cell_type": "code",
   "execution_count": 68,
   "metadata": {},
   "outputs": [
    {
     "name": "stdout",
     "output_type": "stream",
     "text": [
      "Wall time: 11min 12s\n"
     ]
    },
    {
     "data": {
      "text/plain": [
       "array([ 0.06321101, 33.06340503])"
      ]
     },
     "execution_count": 68,
     "metadata": {},
     "output_type": "execute_result"
    }
   ],
   "source": [
    "%%time\n",
    "from scipy.optimize import minimize\n",
    "\n",
    "msol = minimize(sumsq_error,[0.001, 0.1], method='Nelder-Mead')\n",
    "msol.x"
   ]
  },
  {
   "cell_type": "code",
   "execution_count": 69,
   "metadata": {},
   "outputs": [],
   "source": [
    "beta_optimal = 0.06321101\n",
    "gamma_optimal = 33.06340503"
   ]
  },
  {
   "cell_type": "code",
   "execution_count": 71,
   "metadata": {},
   "outputs": [],
   "source": [
    "beta = beta_optimal\n",
    "gamma = gamma_optimal\n",
    "\"\"\"\n",
    "def SIR(t,y):\n",
    "    S = y[0]\n",
    "    I = y[1]\n",
    "    R = y[2]\n",
    "    return([-beta*S*I, beta*S*I-gamma*I, gamma*I])\n",
    "\"\"\"\n",
    "solution_korea_optimal = solve_ivp"
   ]
  },
  {
   "cell_type": "code",
   "execution_count": 72,
   "metadata": {},
   "outputs": [],
   "source": [
    "#plot_epidemie(solution_korea_optimal, korea_df.loc[2:])"
   ]
  },
  {
   "cell_type": "code",
   "execution_count": 73,
   "metadata": {},
   "outputs": [],
   "source": [
    "#fig = plt.figure(figsize=(12, 5))\n",
    "#plt.plot(solution_korea_optimal.t, solution_korea_optimal.y[1], korea_df.loc[])\n",
    "#plt.grid(True)\n",
    "#plt.legend()\n",
    "#plt.show"
   ]
  },
  {
   "cell_type": "code",
   "execution_count": 74,
   "metadata": {},
   "outputs": [],
   "source": [
    "#china_df = epidemie_df.get_country('Mainland China').loc[:40]\n",
    "#china_df.head()"
   ]
  },
  {
   "cell_type": "code",
   "execution_count": null,
   "metadata": {},
   "outputs": [],
   "source": []
  },
  {
   "cell_type": "code",
   "execution_count": null,
   "metadata": {},
   "outputs": [],
   "source": []
  }
 ],
 "metadata": {
  "kernelspec": {
   "display_name": "Projet Corona (Python)",
   "language": "python",
   "name": "corona"
  },
  "language_info": {
   "codemirror_mode": {
    "name": "ipython",
    "version": 3
   },
   "file_extension": ".py",
   "mimetype": "text/x-python",
   "name": "python",
   "nbconvert_exporter": "python",
   "pygments_lexer": "ipython3",
   "version": "3.8.1"
  }
 },
 "nbformat": 4,
 "nbformat_minor": 2
}
